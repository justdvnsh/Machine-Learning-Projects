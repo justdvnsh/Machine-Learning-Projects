{
 "cells": [
  {
   "cell_type": "markdown",
   "metadata": {},
   "source": [
    "### LSTM"
   ]
  },
  {
   "cell_type": "code",
   "execution_count": 2,
   "metadata": {},
   "outputs": [],
   "source": [
    "import numpy as np\n",
    "import pandas as pd\n",
    "import matplotlib.pyplot as plt"
   ]
  },
  {
   "cell_type": "code",
   "execution_count": 3,
   "metadata": {},
   "outputs": [
    {
     "data": {
      "text/plain": [
       "array([[325.25],\n",
       "       [331.27],\n",
       "       [329.83],\n",
       "       ...,\n",
       "       [793.7 ],\n",
       "       [783.33],\n",
       "       [782.75]])"
      ]
     },
     "execution_count": 3,
     "metadata": {},
     "output_type": "execute_result"
    }
   ],
   "source": [
    "training_set = pd.read_csv('Google_Stock_Price_Train.csv').iloc[:,1:2].values\n",
    "## we use 1:2, instead of 1 , because it will , convert the array into a matrix.\n",
    "training_set"
   ]
  },
  {
   "cell_type": "markdown",
   "metadata": {},
   "source": [
    "Next we are scaling the matrix , using the __normalization__ method, to make the training more efficient and faster."
   ]
  },
  {
   "cell_type": "code",
   "execution_count": 4,
   "metadata": {},
   "outputs": [],
   "source": [
    "from sklearn.preprocessing import MinMaxScaler"
   ]
  },
  {
   "cell_type": "code",
   "execution_count": 5,
   "metadata": {},
   "outputs": [],
   "source": [
    "sc = MinMaxScaler()"
   ]
  },
  {
   "cell_type": "code",
   "execution_count": 6,
   "metadata": {},
   "outputs": [],
   "source": [
    "training_set = sc.fit_transform(training_set)"
   ]
  },
  {
   "cell_type": "code",
   "execution_count": 7,
   "metadata": {},
   "outputs": [
    {
     "data": {
      "text/plain": [
       "array([[0.08581368],\n",
       "       [0.09701243],\n",
       "       [0.09433366],\n",
       "       ...,\n",
       "       [0.95725128],\n",
       "       [0.93796041],\n",
       "       [0.93688146]])"
      ]
     },
     "execution_count": 7,
     "metadata": {},
     "output_type": "execute_result"
    }
   ],
   "source": [
    "training_set"
   ]
  },
  {
   "cell_type": "markdown",
   "metadata": {},
   "source": [
    "Here we have used the normalization method to make the training more faster and efficient. Normalization method is nothing but \n",
    "the formula\n",
    "\n",
    "```\n",
    "norm(x) = (x - min(x)) / (max(x) - min(x))\n",
    "```"
   ]
  },
  {
   "cell_type": "code",
   "execution_count": 8,
   "metadata": {},
   "outputs": [],
   "source": [
    "X_train = training_set[0:1257]\n",
    "y_train = training_set[1:1258]"
   ]
  },
  {
   "cell_type": "code",
   "execution_count": 9,
   "metadata": {},
   "outputs": [],
   "source": [
    "X_train = np.reshape(X_train, (1257, 1, 1))"
   ]
  },
  {
   "cell_type": "code",
   "execution_count": 10,
   "metadata": {},
   "outputs": [
    {
     "data": {
      "text/plain": [
       "array([[[0.08581368]],\n",
       "\n",
       "       [[0.09701243]],\n",
       "\n",
       "       [[0.09433366]],\n",
       "\n",
       "       ...,\n",
       "\n",
       "       [[0.95163331]],\n",
       "\n",
       "       [[0.95725128]],\n",
       "\n",
       "       [[0.93796041]]])"
      ]
     },
     "execution_count": 10,
     "metadata": {},
     "output_type": "execute_result"
    }
   ],
   "source": [
    "X_train"
   ]
  },
  {
   "cell_type": "markdown",
   "metadata": {},
   "source": [
    "Here, we made the X_train into a 3D array, because , Keras asks for a 3D vector to be passed in. Also, the first argument is the number of observations 1257 , the second argument is the timestep, i.e. the input is of the format time (t) and the output is of the format time (t+1), since ,we are predicting the data for a day later . Thus (t + 1 - t) gives 1, and the final argument is also 1, since it is the feature . We have only feature that is the stock price at a given time . "
   ]
  },
  {
   "cell_type": "code",
   "execution_count": 11,
   "metadata": {},
   "outputs": [
    {
     "name": "stderr",
     "output_type": "stream",
     "text": [
      "C:\\Users\\Divyansh\\Anaconda3\\lib\\site-packages\\h5py\\__init__.py:36: FutureWarning: Conversion of the second argument of issubdtype from `float` to `np.floating` is deprecated. In future, it will be treated as `np.float64 == np.dtype(float).type`.\n",
      "  from ._conv import register_converters as _register_converters\n",
      "Using TensorFlow backend.\n"
     ]
    }
   ],
   "source": [
    "from keras.models import Sequential\n",
    "from keras.layers import Dense, LSTM"
   ]
  },
  {
   "cell_type": "code",
   "execution_count": 12,
   "metadata": {},
   "outputs": [],
   "source": [
    "regressor = Sequential()\n",
    "## We are using Sequential class , since the network is a sequense of layer . We will be using a graph, when we want to do unsupervised \n",
    "## deep learning , like self-organising maps.\n",
    "## Dense layer is to tell the network that we will be using a dense output layer ."
   ]
  },
  {
   "cell_type": "code",
   "execution_count": 13,
   "metadata": {},
   "outputs": [],
   "source": [
    "regressor.add(LSTM(units = 4, activation = 'sigmoid', input_shape = (None, 1)))"
   ]
  },
  {
   "cell_type": "code",
   "execution_count": 14,
   "metadata": {},
   "outputs": [],
   "source": [
    "regressor.add(Dense(units = 1))"
   ]
  },
  {
   "cell_type": "code",
   "execution_count": 15,
   "metadata": {},
   "outputs": [],
   "source": [
    "regressor.compile(optimizer = 'adam', loss = 'mean_squared_error')"
   ]
  },
  {
   "cell_type": "code",
   "execution_count": 16,
   "metadata": {},
   "outputs": [
    {
     "name": "stdout",
     "output_type": "stream",
     "text": [
      "Epoch 1/200\n",
      "1257/1257 [==============================] - 1s 901us/step - loss: 0.1877\n",
      "Epoch 2/200\n",
      "1257/1257 [==============================] - 0s 84us/step - loss: 0.1356\n",
      "Epoch 3/200\n",
      "1257/1257 [==============================] - 0s 83us/step - loss: 0.1043\n",
      "Epoch 4/200\n",
      "1257/1257 [==============================] - 0s 80us/step - loss: 0.0876\n",
      "Epoch 5/200\n",
      "1257/1257 [==============================] - 0s 82us/step - loss: 0.0796\n",
      "Epoch 6/200\n",
      "1257/1257 [==============================] - 0s 79us/step - loss: 0.0761\n",
      "Epoch 7/200\n",
      "1257/1257 [==============================] - 0s 83us/step - loss: 0.0743\n",
      "Epoch 8/200\n",
      "1257/1257 [==============================] - 0s 80us/step - loss: 0.0730\n",
      "Epoch 9/200\n",
      "1257/1257 [==============================] - 0s 89us/step - loss: 0.0718\n",
      "Epoch 10/200\n",
      "1257/1257 [==============================] - 0s 79us/step - loss: 0.0707\n",
      "Epoch 11/200\n",
      "1257/1257 [==============================] - 0s 83us/step - loss: 0.0695\n",
      "Epoch 12/200\n",
      "1257/1257 [==============================] - 0s 84us/step - loss: 0.0683\n",
      "Epoch 13/200\n",
      "1257/1257 [==============================] - 0s 79us/step - loss: 0.0671\n",
      "Epoch 14/200\n",
      "1257/1257 [==============================] - 0s 82us/step - loss: 0.0658\n",
      "Epoch 15/200\n",
      "1257/1257 [==============================] - 0s 84us/step - loss: 0.0646\n",
      "Epoch 16/200\n",
      "1257/1257 [==============================] - 0s 79us/step - loss: 0.0633\n",
      "Epoch 17/200\n",
      "1257/1257 [==============================] - 0s 86us/step - loss: 0.0620\n",
      "Epoch 18/200\n",
      "1257/1257 [==============================] - 0s 79us/step - loss: 0.0607\n",
      "Epoch 19/200\n",
      "1257/1257 [==============================] - 0s 90us/step - loss: 0.0594\n",
      "Epoch 20/200\n",
      "1257/1257 [==============================] - 0s 96us/step - loss: 0.0579\n",
      "Epoch 21/200\n",
      "1257/1257 [==============================] - 0s 120us/step - loss: 0.0565\n",
      "Epoch 22/200\n",
      "1257/1257 [==============================] - 0s 83us/step - loss: 0.0551\n",
      "Epoch 23/200\n",
      "1257/1257 [==============================] - 0s 99us/step - loss: 0.0537\n",
      "Epoch 24/200\n",
      "1257/1257 [==============================] - 0s 141us/step - loss: 0.0522\n",
      "Epoch 25/200\n",
      "1257/1257 [==============================] - 0s 93us/step - loss: 0.0507\n",
      "Epoch 26/200\n",
      "1257/1257 [==============================] - 0s 112us/step - loss: 0.0491\n",
      "Epoch 27/200\n",
      "1257/1257 [==============================] - 0s 121us/step - loss: 0.0476\n",
      "Epoch 28/200\n",
      "1257/1257 [==============================] - 0s 86us/step - loss: 0.0461\n",
      "Epoch 29/200\n",
      "1257/1257 [==============================] - 0s 90us/step - loss: 0.0445\n",
      "Epoch 30/200\n",
      "1257/1257 [==============================] - 0s 83us/step - loss: 0.0428\n",
      "Epoch 31/200\n",
      "1257/1257 [==============================] - 0s 109us/step - loss: 0.0412\n",
      "Epoch 32/200\n",
      "1257/1257 [==============================] - 0s 110us/step - loss: 0.0395\n",
      "Epoch 33/200\n",
      "1257/1257 [==============================] - 0s 84us/step - loss: 0.0378\n",
      "Epoch 34/200\n",
      "1257/1257 [==============================] - 0s 83us/step - loss: 0.0361\n",
      "Epoch 35/200\n",
      "1257/1257 [==============================] - 0s 94us/step - loss: 0.0344\n",
      "Epoch 36/200\n",
      "1257/1257 [==============================] - 0s 112us/step - loss: 0.0327\n",
      "Epoch 37/200\n",
      "1257/1257 [==============================] - 0s 117us/step - loss: 0.0310\n",
      "Epoch 38/200\n",
      "1257/1257 [==============================] - 0s 85us/step - loss: 0.0293\n",
      "Epoch 39/200\n",
      "1257/1257 [==============================] - 0s 106us/step - loss: 0.0276\n",
      "Epoch 40/200\n",
      "1257/1257 [==============================] - 0s 106us/step - loss: 0.0260\n",
      "Epoch 41/200\n",
      "1257/1257 [==============================] - 0s 102us/step - loss: 0.0243\n",
      "Epoch 42/200\n",
      "1257/1257 [==============================] - 0s 90us/step - loss: 0.0227\n",
      "Epoch 43/200\n",
      "1257/1257 [==============================] - 0s 91us/step - loss: 0.0212\n",
      "Epoch 44/200\n",
      "1257/1257 [==============================] - 0s 97us/step - loss: 0.0197\n",
      "Epoch 45/200\n",
      "1257/1257 [==============================] - 0s 113us/step - loss: 0.0182\n",
      "Epoch 46/200\n",
      "1257/1257 [==============================] - 0s 81us/step - loss: 0.0167\n",
      "Epoch 47/200\n",
      "1257/1257 [==============================] - 0s 94us/step - loss: 0.0154\n",
      "Epoch 48/200\n",
      "1257/1257 [==============================] - 0s 89us/step - loss: 0.0140\n",
      "Epoch 49/200\n",
      "1257/1257 [==============================] - 0s 94us/step - loss: 0.0127\n",
      "Epoch 50/200\n",
      "1257/1257 [==============================] - 0s 100us/step - loss: 0.0115\n",
      "Epoch 51/200\n",
      "1257/1257 [==============================] - 0s 94us/step - loss: 0.0104\n",
      "Epoch 52/200\n",
      "1257/1257 [==============================] - 0s 92us/step - loss: 0.0093\n",
      "Epoch 53/200\n",
      "1257/1257 [==============================] - 0s 83us/step - loss: 0.0082\n",
      "Epoch 54/200\n",
      "1257/1257 [==============================] - 0s 109us/step - loss: 0.0073\n",
      "Epoch 55/200\n",
      "1257/1257 [==============================] - 0s 102us/step - loss: 0.0064\n",
      "Epoch 56/200\n",
      "1257/1257 [==============================] - 0s 92us/step - loss: 0.0056\n",
      "Epoch 57/200\n",
      "1257/1257 [==============================] - 0s 84us/step - loss: 0.0049\n",
      "Epoch 58/200\n",
      "1257/1257 [==============================] - 0s 91us/step - loss: 0.0043\n",
      "Epoch 59/200\n",
      "1257/1257 [==============================] - 0s 100us/step - loss: 0.0037\n",
      "Epoch 60/200\n",
      "1257/1257 [==============================] - 0s 90us/step - loss: 0.0032\n",
      "Epoch 61/200\n",
      "1257/1257 [==============================] - 0s 92us/step - loss: 0.0027\n",
      "Epoch 62/200\n",
      "1257/1257 [==============================] - 0s 92us/step - loss: 0.0023\n",
      "Epoch 63/200\n",
      "1257/1257 [==============================] - 0s 92us/step - loss: 0.0020\n",
      "Epoch 64/200\n",
      "1257/1257 [==============================] - 0s 88us/step - loss: 0.0017\n",
      "Epoch 65/200\n",
      "1257/1257 [==============================] - 0s 90us/step - loss: 0.0014\n",
      "Epoch 66/200\n",
      "1257/1257 [==============================] - 0s 87us/step - loss: 0.0012\n",
      "Epoch 67/200\n",
      "1257/1257 [==============================] - 0s 95us/step - loss: 0.0010\n",
      "Epoch 68/200\n",
      "1257/1257 [==============================] - 0s 98us/step - loss: 8.6876e-04\n",
      "Epoch 69/200\n",
      "1257/1257 [==============================] - 0s 83us/step - loss: 7.4595e-04\n",
      "Epoch 70/200\n",
      "1257/1257 [==============================] - 0s 86us/step - loss: 6.4657e-04\n",
      "Epoch 71/200\n",
      "1257/1257 [==============================] - 0s 91us/step - loss: 5.6875e-04\n",
      "Epoch 72/200\n",
      "1257/1257 [==============================] - 0s 107us/step - loss: 5.0100e-04\n",
      "Epoch 73/200\n",
      "1257/1257 [==============================] - 0s 91us/step - loss: 4.5081e-04\n",
      "Epoch 74/200\n",
      "1257/1257 [==============================] - 0s 105us/step - loss: 4.0892e-04\n",
      "Epoch 75/200\n",
      "1257/1257 [==============================] - 0s 104us/step - loss: 3.7692e-04\n",
      "Epoch 76/200\n",
      "1257/1257 [==============================] - 0s 90us/step - loss: 3.5313e-04\n",
      "Epoch 77/200\n",
      "1257/1257 [==============================] - 0s 92us/step - loss: 3.3281e-04\n",
      "Epoch 78/200\n",
      "1257/1257 [==============================] - 0s 106us/step - loss: 3.1806e-04\n",
      "Epoch 79/200\n",
      "1257/1257 [==============================] - 0s 105us/step - loss: 3.0761e-04\n",
      "Epoch 80/200\n",
      "1257/1257 [==============================] - 0s 116us/step - loss: 2.9930e-04\n",
      "Epoch 81/200\n",
      "1257/1257 [==============================] - 0s 102us/step - loss: 2.9158e-04\n",
      "Epoch 82/200\n",
      "1257/1257 [==============================] - 0s 116us/step - loss: 2.8662e-04\n",
      "Epoch 83/200\n",
      "1257/1257 [==============================] - 0s 94us/step - loss: 2.8329e-04\n",
      "Epoch 84/200\n",
      "1257/1257 [==============================] - 0s 109us/step - loss: 2.7979e-04\n",
      "Epoch 85/200\n",
      "1257/1257 [==============================] - 0s 98us/step - loss: 2.7978e-04\n",
      "Epoch 86/200\n",
      "1257/1257 [==============================] - 0s 86us/step - loss: 2.7600e-04\n",
      "Epoch 87/200\n",
      "1257/1257 [==============================] - 0s 94us/step - loss: 2.7562e-04\n",
      "Epoch 88/200\n",
      "1257/1257 [==============================] - 0s 107us/step - loss: 2.7485e-04\n",
      "Epoch 89/200\n",
      "1257/1257 [==============================] - 0s 104us/step - loss: 2.7376e-04\n",
      "Epoch 90/200\n",
      "1257/1257 [==============================] - 0s 105us/step - loss: 2.7336e-04\n",
      "Epoch 91/200\n",
      "1257/1257 [==============================] - 0s 113us/step - loss: 2.7162e-04\n",
      "Epoch 92/200\n",
      "1257/1257 [==============================] - 0s 98us/step - loss: 2.7245e-04\n",
      "Epoch 93/200\n",
      "1257/1257 [==============================] - 0s 93us/step - loss: 2.7142e-04\n",
      "Epoch 94/200\n"
     ]
    },
    {
     "name": "stdout",
     "output_type": "stream",
     "text": [
      "1257/1257 [==============================] - 0s 106us/step - loss: 2.7062e-04\n",
      "Epoch 95/200\n",
      "1257/1257 [==============================] - 0s 92us/step - loss: 2.7125e-04\n",
      "Epoch 96/200\n",
      "1257/1257 [==============================] - 0s 107us/step - loss: 2.7028e-04\n",
      "Epoch 97/200\n",
      "1257/1257 [==============================] - 0s 107us/step - loss: 2.7036e-04\n",
      "Epoch 98/200\n",
      "1257/1257 [==============================] - 0s 113us/step - loss: 2.6982e-04\n",
      "Epoch 99/200\n",
      "1257/1257 [==============================] - 0s 126us/step - loss: 2.7015e-04\n",
      "Epoch 100/200\n",
      "1257/1257 [==============================] - 0s 108us/step - loss: 2.6795e-04\n",
      "Epoch 101/200\n",
      "1257/1257 [==============================] - 0s 115us/step - loss: 2.6824e-04\n",
      "Epoch 102/200\n",
      "1257/1257 [==============================] - 0s 98us/step - loss: 2.6481e-04\n",
      "Epoch 103/200\n",
      "1257/1257 [==============================] - 0s 134us/step - loss: 2.6727e-04 0s - loss: 2.6766e-\n",
      "Epoch 104/200\n",
      "1257/1257 [==============================] - 0s 90us/step - loss: 2.6652e-04\n",
      "Epoch 105/200\n",
      "1257/1257 [==============================] - 0s 112us/step - loss: 2.6492e-04\n",
      "Epoch 106/200\n",
      "1257/1257 [==============================] - 0s 114us/step - loss: 2.6838e-04\n",
      "Epoch 107/200\n",
      "1257/1257 [==============================] - 0s 124us/step - loss: 2.6414e-04\n",
      "Epoch 108/200\n",
      "1257/1257 [==============================] - 0s 117us/step - loss: 2.6359e-04\n",
      "Epoch 109/200\n",
      "1257/1257 [==============================] - 0s 90us/step - loss: 2.6374e-04\n",
      "Epoch 110/200\n",
      "1257/1257 [==============================] - 0s 124us/step - loss: 2.6256e-04\n",
      "Epoch 111/200\n",
      "1257/1257 [==============================] - 0s 91us/step - loss: 2.6284e-04\n",
      "Epoch 112/200\n",
      "1257/1257 [==============================] - 0s 108us/step - loss: 2.6175e-04\n",
      "Epoch 113/200\n",
      "1257/1257 [==============================] - 0s 118us/step - loss: 2.6106e-04\n",
      "Epoch 114/200\n",
      "1257/1257 [==============================] - 0s 84us/step - loss: 2.6206e-04\n",
      "Epoch 115/200\n",
      "1257/1257 [==============================] - 0s 84us/step - loss: 2.6163e-04\n",
      "Epoch 116/200\n",
      "1257/1257 [==============================] - 0s 86us/step - loss: 2.5994e-04\n",
      "Epoch 117/200\n",
      "1257/1257 [==============================] - 0s 84us/step - loss: 2.6131e-04\n",
      "Epoch 118/200\n",
      "1257/1257 [==============================] - 0s 94us/step - loss: 2.6031e-04\n",
      "Epoch 119/200\n",
      "1257/1257 [==============================] - 0s 98us/step - loss: 2.5921e-04\n",
      "Epoch 120/200\n",
      "1257/1257 [==============================] - 0s 101us/step - loss: 2.6210e-04\n",
      "Epoch 121/200\n",
      "1257/1257 [==============================] - 0s 106us/step - loss: 2.5827e-04\n",
      "Epoch 122/200\n",
      "1257/1257 [==============================] - 0s 95us/step - loss: 2.5822e-04\n",
      "Epoch 123/200\n",
      "1257/1257 [==============================] - 0s 85us/step - loss: 2.5983e-04\n",
      "Epoch 124/200\n",
      "1257/1257 [==============================] - 0s 111us/step - loss: 2.5749e-04\n",
      "Epoch 125/200\n",
      "1257/1257 [==============================] - 0s 109us/step - loss: 2.5748e-04\n",
      "Epoch 126/200\n",
      "1257/1257 [==============================] - 0s 94us/step - loss: 2.5990e-04\n",
      "Epoch 127/200\n",
      "1257/1257 [==============================] - 0s 109us/step - loss: 2.5764e-04\n",
      "Epoch 128/200\n",
      "1257/1257 [==============================] - 0s 117us/step - loss: 2.5713e-04\n",
      "Epoch 129/200\n",
      "1257/1257 [==============================] - 0s 93us/step - loss: 2.5607e-04\n",
      "Epoch 130/200\n",
      "1257/1257 [==============================] - 0s 90us/step - loss: 2.5775e-04\n",
      "Epoch 131/200\n",
      "1257/1257 [==============================] - 0s 92us/step - loss: 2.5603e-04\n",
      "Epoch 132/200\n",
      "1257/1257 [==============================] - 0s 83us/step - loss: 2.5580e-04\n",
      "Epoch 133/200\n",
      "1257/1257 [==============================] - 0s 90us/step - loss: 2.5636e-04\n",
      "Epoch 134/200\n",
      "1257/1257 [==============================] - 0s 104us/step - loss: 2.5842e-04\n",
      "Epoch 135/200\n",
      "1257/1257 [==============================] - 0s 96us/step - loss: 2.5575e-04\n",
      "Epoch 136/200\n",
      "1257/1257 [==============================] - 0s 86us/step - loss: 2.5540e-04\n",
      "Epoch 137/200\n",
      "1257/1257 [==============================] - 0s 106us/step - loss: 2.5496e-04\n",
      "Epoch 138/200\n",
      "1257/1257 [==============================] - 0s 123us/step - loss: 2.5571e-04\n",
      "Epoch 139/200\n",
      "1257/1257 [==============================] - 0s 95us/step - loss: 2.5731e-04\n",
      "Epoch 140/200\n",
      "1257/1257 [==============================] - 0s 88us/step - loss: 2.5681e-04\n",
      "Epoch 141/200\n",
      "1257/1257 [==============================] - 0s 91us/step - loss: 2.5601e-04\n",
      "Epoch 142/200\n",
      "1257/1257 [==============================] - 0s 112us/step - loss: 2.5570e-04\n",
      "Epoch 143/200\n",
      "1257/1257 [==============================] - 0s 120us/step - loss: 2.5978e-04\n",
      "Epoch 144/200\n",
      "1257/1257 [==============================] - 0s 93us/step - loss: 2.5515e-04\n",
      "Epoch 145/200\n",
      "1257/1257 [==============================] - 0s 94us/step - loss: 2.5557e-04\n",
      "Epoch 146/200\n",
      "1257/1257 [==============================] - ETA: 0s - loss: 2.5889e-0 - 0s 94us/step - loss: 2.5635e-04\n",
      "Epoch 147/200\n",
      "1257/1257 [==============================] - 0s 99us/step - loss: 2.5578e-04\n",
      "Epoch 148/200\n",
      "1257/1257 [==============================] - 0s 103us/step - loss: 2.5459e-04\n",
      "Epoch 149/200\n",
      "1257/1257 [==============================] - 0s 110us/step - loss: 2.5386e-04\n",
      "Epoch 150/200\n",
      "1257/1257 [==============================] - 0s 98us/step - loss: 2.5439e-04\n",
      "Epoch 151/200\n",
      "1257/1257 [==============================] - 0s 94us/step - loss: 2.5448e-04\n",
      "Epoch 152/200\n",
      "1257/1257 [==============================] - 0s 103us/step - loss: 2.5632e-04\n",
      "Epoch 153/200\n",
      "1257/1257 [==============================] - 0s 111us/step - loss: 2.5572e-04\n",
      "Epoch 154/200\n",
      "1257/1257 [==============================] - 0s 92us/step - loss: 2.5351e-04\n",
      "Epoch 155/200\n",
      "1257/1257 [==============================] - 0s 93us/step - loss: 2.5458e-04\n",
      "Epoch 156/200\n",
      "1257/1257 [==============================] - 0s 110us/step - loss: 2.5575e-04\n",
      "Epoch 157/200\n",
      "1257/1257 [==============================] - 0s 117us/step - loss: 2.5400e-04\n",
      "Epoch 158/200\n",
      "1257/1257 [==============================] - 0s 103us/step - loss: 2.5676e-04\n",
      "Epoch 159/200\n",
      "1257/1257 [==============================] - 0s 111us/step - loss: 2.5325e-04\n",
      "Epoch 160/200\n",
      "1257/1257 [==============================] - 0s 109us/step - loss: 2.5365e-04\n",
      "Epoch 161/200\n",
      "1257/1257 [==============================] - 0s 104us/step - loss: 2.5337e-04\n",
      "Epoch 162/200\n",
      "1257/1257 [==============================] - 0s 104us/step - loss: 2.5868e-04\n",
      "Epoch 163/200\n",
      "1257/1257 [==============================] - 0s 101us/step - loss: 2.5280e-04\n",
      "Epoch 164/200\n",
      "1257/1257 [==============================] - 0s 101us/step - loss: 2.5227e-04\n",
      "Epoch 165/200\n",
      "1257/1257 [==============================] - 0s 101us/step - loss: 2.5426e-04\n",
      "Epoch 166/200\n",
      "1257/1257 [==============================] - 0s 101us/step - loss: 2.5218e-04\n",
      "Epoch 167/200\n",
      "1257/1257 [==============================] - 0s 102us/step - loss: 2.5375e-04\n",
      "Epoch 168/200\n",
      "1257/1257 [==============================] - 0s 92us/step - loss: 2.5516e-04\n",
      "Epoch 169/200\n",
      "1257/1257 [==============================] - 0s 148us/step - loss: 2.5256e-04\n",
      "Epoch 170/200\n",
      "1257/1257 [==============================] - 0s 108us/step - loss: 2.5348e-04\n",
      "Epoch 171/200\n",
      "1257/1257 [==============================] - 0s 94us/step - loss: 2.5957e-04\n",
      "Epoch 172/200\n",
      "1257/1257 [==============================] - 0s 105us/step - loss: 2.5682e-04\n",
      "Epoch 173/200\n",
      "1257/1257 [==============================] - 0s 94us/step - loss: 2.5427e-04\n",
      "Epoch 174/200\n",
      "1257/1257 [==============================] - 0s 99us/step - loss: 2.5419e-04\n",
      "Epoch 175/200\n",
      "1257/1257 [==============================] - 0s 92us/step - loss: 2.5407e-04\n",
      "Epoch 176/200\n",
      "1257/1257 [==============================] - 0s 120us/step - loss: 2.5547e-04\n",
      "Epoch 177/200\n",
      "1257/1257 [==============================] - 0s 129us/step - loss: 2.5209e-04\n",
      "Epoch 178/200\n",
      "1257/1257 [==============================] - 0s 125us/step - loss: 2.5348e-04\n",
      "Epoch 179/200\n",
      "1257/1257 [==============================] - 0s 121us/step - loss: 2.5592e-04\n",
      "Epoch 180/200\n",
      "1257/1257 [==============================] - 0s 105us/step - loss: 2.5229e-04\n",
      "Epoch 181/200\n",
      "1257/1257 [==============================] - 0s 97us/step - loss: 2.5374e-04\n",
      "Epoch 182/200\n",
      "1257/1257 [==============================] - 0s 122us/step - loss: 2.5233e-04\n",
      "Epoch 183/200\n"
     ]
    },
    {
     "name": "stdout",
     "output_type": "stream",
     "text": [
      "1257/1257 [==============================] - 0s 114us/step - loss: 2.5280e-04\n",
      "Epoch 184/200\n",
      "1257/1257 [==============================] - 0s 96us/step - loss: 2.5417e-04\n",
      "Epoch 185/200\n",
      "1257/1257 [==============================] - 0s 124us/step - loss: 2.5362e-04\n",
      "Epoch 186/200\n",
      "1257/1257 [==============================] - 0s 148us/step - loss: 2.5220e-04\n",
      "Epoch 187/200\n",
      "1257/1257 [==============================] - 0s 194us/step - loss: 2.5674e-04\n",
      "Epoch 188/200\n",
      "1257/1257 [==============================] - 0s 204us/step - loss: 2.5214e-04\n",
      "Epoch 189/200\n",
      "1257/1257 [==============================] - 0s 254us/step - loss: 2.5327e-04\n",
      "Epoch 190/200\n",
      "1257/1257 [==============================] - 0s 143us/step - loss: 2.5451e-04\n",
      "Epoch 191/200\n",
      "1257/1257 [==============================] - 0s 115us/step - loss: 2.5196e-04\n",
      "Epoch 192/200\n",
      "1257/1257 [==============================] - 0s 143us/step - loss: 2.5386e-04\n",
      "Epoch 193/200\n",
      "1257/1257 [==============================] - 0s 213us/step - loss: 2.5429e-04\n",
      "Epoch 194/200\n",
      "1257/1257 [==============================] - 0s 146us/step - loss: 2.5265e-04\n",
      "Epoch 195/200\n",
      "1257/1257 [==============================] - 0s 156us/step - loss: 2.6196e-04\n",
      "Epoch 196/200\n",
      "1257/1257 [==============================] - 0s 105us/step - loss: 2.5457e-04\n",
      "Epoch 197/200\n",
      "1257/1257 [==============================] - 0s 137us/step - loss: 2.5428e-04\n",
      "Epoch 198/200\n",
      "1257/1257 [==============================] - 0s 171us/step - loss: 2.5098e-04\n",
      "Epoch 199/200\n",
      "1257/1257 [==============================] - 0s 129us/step - loss: 2.5155e-04\n",
      "Epoch 200/200\n",
      "1257/1257 [==============================] - 0s 100us/step - loss: 2.5077e-04\n"
     ]
    },
    {
     "data": {
      "text/plain": [
       "<keras.callbacks.History at 0x24dcd4c8898>"
      ]
     },
     "execution_count": 16,
     "metadata": {},
     "output_type": "execute_result"
    }
   ],
   "source": [
    "regressor.fit(X_train, y_train, batch_size=32, epochs = 200)"
   ]
  },
  {
   "cell_type": "code",
   "execution_count": 17,
   "metadata": {},
   "outputs": [],
   "source": [
    "test_set = pd.read_csv('Google_Stock_Price_Test.csv')\n",
    "real_stock_price = test_set.iloc[: ,1:2].values"
   ]
  },
  {
   "cell_type": "code",
   "execution_count": 19,
   "metadata": {},
   "outputs": [
    {
     "data": {
      "text/plain": [
       "array([[778.81],\n",
       "       [788.36],\n",
       "       [786.08],\n",
       "       [795.26],\n",
       "       [806.4 ],\n",
       "       [807.86],\n",
       "       [805.  ],\n",
       "       [807.14],\n",
       "       [807.48],\n",
       "       [807.08],\n",
       "       [805.81],\n",
       "       [805.12],\n",
       "       [806.91],\n",
       "       [807.25],\n",
       "       [822.3 ],\n",
       "       [829.62],\n",
       "       [837.81],\n",
       "       [834.71],\n",
       "       [814.66],\n",
       "       [796.86]])"
      ]
     },
     "execution_count": 19,
     "metadata": {},
     "output_type": "execute_result"
    }
   ],
   "source": [
    "real_stock_price"
   ]
  },
  {
   "cell_type": "code",
   "execution_count": 20,
   "metadata": {},
   "outputs": [],
   "source": [
    "inputs = sc.transform(real_stock_price)"
   ]
  },
  {
   "cell_type": "code",
   "execution_count": 21,
   "metadata": {},
   "outputs": [],
   "source": [
    "inputs = np.reshape(inputs, (20,1,1))"
   ]
  },
  {
   "cell_type": "code",
   "execution_count": 22,
   "metadata": {},
   "outputs": [],
   "source": [
    "predicted_stock_price = regressor.predict(inputs)"
   ]
  },
  {
   "cell_type": "code",
   "execution_count": 23,
   "metadata": {},
   "outputs": [],
   "source": [
    "predicted_stock_price = sc.inverse_transform(predicted_stock_price)"
   ]
  },
  {
   "cell_type": "code",
   "execution_count": 27,
   "metadata": {},
   "outputs": [
    {
     "data": {
      "text/plain": [
       "array([[778.69727],\n",
       "       [787.5005 ],\n",
       "       [785.4006 ],\n",
       "       [793.84937],\n",
       "       [804.0795 ],\n",
       "       [805.4185 ],\n",
       "       [802.7952 ],\n",
       "       [804.7582 ],\n",
       "       [805.06995],\n",
       "       [804.7031 ],\n",
       "       [803.53827],\n",
       "       [802.9052 ],\n",
       "       [804.54724],\n",
       "       [804.8591 ],\n",
       "       [818.63794],\n",
       "       [825.3235 ],\n",
       "       [832.7717 ],\n",
       "       [829.96625],\n",
       "       [811.6488 ],\n",
       "       [795.3203 ]], dtype=float32)"
      ]
     },
     "execution_count": 27,
     "metadata": {},
     "output_type": "execute_result"
    }
   ],
   "source": [
    "predicted_stock_price"
   ]
  },
  {
   "cell_type": "code",
   "execution_count": 28,
   "metadata": {},
   "outputs": [],
   "source": [
    "%matplotlib inline"
   ]
  },
  {
   "cell_type": "code",
   "execution_count": 29,
   "metadata": {},
   "outputs": [
    {
     "data": {
      "image/png": "[encoded data removed]",
      "text/plain": [
       "<Figure size 432x288 with 1 Axes>"
      ]
     },
     "metadata": {},
     "output_type": "display_data"
    }
   ],
   "source": [
    "plt.plot(real_stock_price, color='red', label = 'Real Stock Price of Jan 2017')\n",
    "plt.plot(predicted_stock_price, color='blue', label = 'Predicted Stock Price of Jan 2017')\n",
    "plt.title('Google Stock Price Prediction of Jan 2017')\n",
    "plt.xlabel('Time')\n",
    "plt.ylabel('Stock Price')\n",
    "plt.legend()\n",
    "plt.show()"
   ]
  },
  {
   "cell_type": "code",
   "execution_count": null,
   "metadata": {},
   "outputs": [],
   "source": []
  }
 ],
 "metadata": {
  "kernelspec": {
   "display_name": "Python 3",
   "language": "python",
   "name": "python3"
  },
  "language_info": {
   "codemirror_mode": {
    "name": "ipython",
    "version": 3
   },
   "file_extension": ".py",
   "mimetype": "text/x-python",
   "name": "python",
   "nbconvert_exporter": "python",
   "pygments_lexer": "ipython3",
   "version": "3.6.5"
  }
 },
 "nbformat": 4,
 "nbformat_minor": 2
}
