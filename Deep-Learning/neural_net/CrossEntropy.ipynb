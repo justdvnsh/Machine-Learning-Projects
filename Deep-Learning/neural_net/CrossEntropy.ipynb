{
 "cells": [
  {
   "cell_type": "markdown",
   "metadata": {},
   "source": [
    "# Implementing the Cross-Entropy Function \n",
    "\n",
    "The function for two classes is - \n",
    "\n",
    "$$H(p, q) = - p \\log(q) - (1-p) \\log(1-q)$$\n",
    "\n",
    "and generally the formula is - \n",
    "\n",
    "$$H(p,q) = -\\sum p(x)logq(x) $$\n",
    "\n",
    "where p(x) is the predicted probabilty and q(x) is the actual probability .\n",
    "\n",
    "Cross-Entropy is basically the measure of how wrong/far the predicted probability distributions are from the original one . "
   ]
  },
  {
   "cell_type": "code",
   "execution_count": 25,
   "metadata": {},
   "outputs": [],
   "source": [
    "import numpy as np"
   ]
  },
  {
   "cell_type": "code",
   "execution_count": 26,
   "metadata": {},
   "outputs": [],
   "source": [
    "def cross_entropy(p,q):\n",
    "    \n",
    "    ## Turned the integers into float .\n",
    "    p = np.float_(p)\n",
    "    q = np.float_(q)\n",
    "    \n",
    "    print(np.log(1-q))\n",
    "    \n",
    "    return -np.sum( q * np.log(p) + ( 1 - q ) * np.log( 1 - p ) )\n",
    "        "
   ]
  },
  {
   "cell_type": "code",
   "execution_count": 27,
   "metadata": {},
   "outputs": [
    {
     "name": "stdout",
     "output_type": "stream",
     "text": [
      "[  0. -inf   0.]\n"
     ]
    },
    {
     "name": "stderr",
     "output_type": "stream",
     "text": [
      "C:\\Users\\Divyansh\\Anaconda3\\lib\\site-packages\\ipykernel_launcher.py:7: RuntimeWarning: divide by zero encountered in log\n",
      "  import sys\n"
     ]
    },
    {
     "data": {
      "text/plain": [
       "0.6431208360145101"
      ]
     },
     "execution_count": 27,
     "metadata": {},
     "output_type": "execute_result"
    }
   ],
   "source": [
    "cross_entropy([0.228, 0.719, 0.053], [0.0, 1.0, 0.0])"
   ]
  },
  {
   "cell_type": "code",
   "execution_count": null,
   "metadata": {},
   "outputs": [],
   "source": []
  }
 ],
 "metadata": {
  "kernelspec": {
   "display_name": "Python 3",
   "language": "python",
   "name": "python3"
  },
  "language_info": {
   "codemirror_mode": {
    "name": "ipython",
    "version": 3
   },
   "file_extension": ".py",
   "mimetype": "text/x-python",
   "name": "python",
   "nbconvert_exporter": "python",
   "pygments_lexer": "ipython3",
   "version": "3.6.5"
  }
 },
 "nbformat": 4,
 "nbformat_minor": 2
}
